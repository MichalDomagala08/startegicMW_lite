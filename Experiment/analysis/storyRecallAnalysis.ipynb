{
 "cells": [
  {
   "cell_type": "markdown",
   "id": "b3995e29",
   "metadata": {},
   "source": []
  },
  {
   "cell_type": "code",
   "execution_count": 1,
   "id": "cade30f9",
   "metadata": {},
   "outputs": [],
   "source": [
    "####    Get the Paths to data:\n",
    "import os \n",
    "from storyTools import loadStory,splitStoryEntity\n",
    "\n",
    "analysisName = \"TEST_res100_dgv5_bll500_blb75_smw10_smL2000_swG50_trO10000_trB5000\"\n",
    "\n",
    "\n",
    "workingDir = os.getcwd();\n",
    "path = os.path.split(workingDir)[0] + \"\\\\data\" #data path\n",
    "savePath = os.path.join(workingDir,analysisName,'individuals')\n",
    "subjects = [f for f in os.listdir(path) if  not os.path.isfile(os.path.join(path, f))] # get all the filenames\n",
    "\n",
    "subjects\n",
    "[Story1,Story1_raw] = loadStory(\"story3.txt\")\n",
    "Story1_bundle = splitStoryEntity(Story1_raw)\n",
    "karolinaStory = \" \".join(Story1_bundle['firstEntity'])\n",
    "janekStory = \" \".join(Story1_bundle['secondEntity'])\n",
    "#### Get the Original Story Data: "
   ]
  },
  {
   "cell_type": "code",
   "execution_count": 2,
   "id": "6411f661",
   "metadata": {},
   "outputs": [],
   "source": [
    "# import os\n",
    "# import wave\n",
    "# import sys\n",
    "# import json\n",
    "# from vosk import Model, KaldiRecognizer\n",
    "\n",
    "# # Your input .wav file\n",
    "\n",
    "# for subj in subjects:\n",
    "#     currentSubj = os.path.join(path,subj, 'Recalls', 'story1.wav')\n",
    "\n",
    "#     # Open wave file\n",
    "#     wf = wave.open(currentSubj, \"rb\")\n",
    "\n",
    "#     # Check audio format\n",
    "#     if wf.getnchannels() != 1 or wf.getsampwidth() != 2 or wf.getcomptype() != \"NONE\":\n",
    "#         print(\"Audio file must be WAV format mono PCM.\")\n",
    "#         sys.exit(1)\n",
    "\n",
    "#     # Load Vosk model\n",
    "#     model = Model(lang=\"pl\")\n",
    "#     rec = KaldiRecognizer(model, wf.getframerate())\n",
    "\n",
    "#     # Accumulate final text here\n",
    "#     full_text = \"\"\n",
    "\n",
    "#     while True:\n",
    "#         data = wf.readframes(4000)\n",
    "#         if len(data) == 0:\n",
    "#             break\n",
    "#         if rec.AcceptWaveform(data):\n",
    "#             result = json.loads(rec.Result())\n",
    "#             full_text += result.get(\"text\", \"\") + \" \"\n",
    "\n",
    "#     # Final result\n",
    "#     final_result = json.loads(rec.FinalResult())\n",
    "#     full_text += final_result.get(\"text\", \"\")\n",
    "\n",
    "#     # Print or return the complete transcription\n",
    "#     print(full_text)\n"
   ]
  },
  {
   "cell_type": "code",
   "execution_count": null,
   "id": "3e3685af",
   "metadata": {},
   "outputs": [
    {
     "name": "stderr",
     "output_type": "stream",
     "text": [
      "[nltk_data] Downloading package punkt_tab to\n",
      "[nltk_data]     C:\\Users\\barak\\AppData\\Roaming\\nltk_data...\n",
      "[nltk_data]   Package punkt_tab is already up-to-date!\n"
     ]
    },
    {
     "name": "stdout",
     "output_type": "stream",
     "text": [
      "You said:  [' Więc nagrywam opowiadanie o historii, którą właśnie usłyszałam.', ' Była ona o rodzeństwie, właśnie Karolinie i jej braci Janku, którzy generalnie byli bardzo z biednej rodziny,', ' mieszkali na poddaszu Młyna i doskwierała właśnie im bieda.', ' Karolina chciała, właśnie podobało jej się dotychczasowe życie.', ' Chciała właśnie bogactwa życia na salonach i po prostu większego docenienia wśród innych.', ' Z kolei Janek akceptował życie, którym właśnie żyje.', ' Nie potrzebował takiej sławy uznania, a dla niego najbardziej liczyła się pomoc dla innych, wsparcie,', ' żeby po prostu czuł się spełniony pracą, którą miał.', ' I pewnego dnia Karolina przechadzając się zauważyła kobietę, która leżała na ziemi,', ' wyglądała na osobę taką ubogą, bezdomną w jakimś starym płaszczu, lecz przeszła obok', ' z myślą, że może pomóc, ale jednak się obawiała, że nie ma czasu na zajmowanie się życiem innych.', ' Zaś wracając, zobaczyła Janka, który zainteresował się kobietą, chciał jej pomóc i uczynił to,', ' gdyż dla niego ważniejsze było pomoc i troska o tą osobę i Karolina zauważyła tą sytuację', ' i zauważyła szyderczy wzrok brata i po tym momencie również przyszła do kobiety.', ' I kobieta powiedziała, że obserwowała dziewczynę i obserwowała także właśnie Janka', ' i we dwójkę podnieśli kobietę i właśnie ta zaprowadziła ich do ich domu,', ' w którym pełna troski i wdzięczności wręczyła właśnie Karolinie lust zwierciadło,', ' które miało taką funkcję, że można było trzy razy przypowiedzieć przyszłość to, co się stanie.', ' Zaś Jankowi wręczyła takie kowadło z młotkiem, gdzie po wbiciu tego mógł otrzymać to, co spełnić życzenie.', ' I obydwoje opuścili jej dom i właśnie Karolina, to jeszcze zapomniałam na początku powiedzieć,', ' była taką pomocniczą, pomocą szwaczek, zaś właśnie jej brat Janek był rzeźbiarzem', ' i właśnie Karolina postanowiła wykorzystać pierwszą funkcję tego zwierciadła magicznego,', ' aby sprawdzić, za kogo wyjdzie jej właśnie koleżanka.', ' I był to albo ubogi mężczyzna, ale młody, z którym będzie miała szczęście,', ' albo starszy bogaty, z którym nie będzie zadowolona.', ' No i właśnie wybrała tego starszego bogatego.', ' No i następnego dnia dostała w liście pod domem w Koszykówie Klinowym,', ' w podzięce za doradzenie siostrze wyboru tego narzędzianego właśnie', ' i dzięki temu zostało zaproszenie na posiadanie większego tytułu u niego w pracy.', ' I była wtedy właśnie nad taką nadzorczynią właśnie tych szwaczek.', ' Z kolei właśnie Janek postanowił swoje pierwsze właśnie to kowadło', ' wykorzystać właśnie jako pomoc starszemu kowalowi do narzędzi,', ' gdyż ten właśnie przyszedł do niego i był ubogi, nie miał tych narzędzi,', ' nie starczało mu na chleb dla rodziny i właśnie Janek nie zawahał się', ' i postanowił pomóc za to, bo dla niego właśnie liczyła się pomoc innym,', ' a nie właśnie właśnie takie szczęście i spełnienie i jakieś tam bogactwo.', ' Właśnie Karolina z kolei kolejne swoje magiczne zwierciadło', ' postanowiła wykorzystać, gdyż chciała jakby chciała tej sławy,', ' chciała bogactwa uznania wśród innych i dlatego nie zawahała się', ' i postanowiła użyć kolejny raz właśnie do tego, żeby zobaczyć,', ' czy właśnie będzie milczała i miała większą posadę czy nie', ' i właśnie wybrała to milczenie w większą posadę u tych szwaczek.', ' Została też jakby bardziej doceniona dzięki temu.', ' Zaś Janek znowu zadecydował wykorzystać to swoje drugie życzenie,', ' aby pomóc właśnie młodemu rzeźbiarzowi, który nie miał narzędzi,', ' nie mógł właśnie spełnić się i zawodowo i wykonywać zleceń,', ' bo nie miał materiałów, no i ten wyczarował mu,', ' zarzeczył sobie te materiały i wręczył.', ' I właśnie po jakimś czasie ten młody rzeźbiarz właśnie przyszedł do niego', ' i wręczył mu wyrzeźbioną rybę, która była z resztek materiałów', ' i mimo, że nie dostał za to zapłaty, nie został za to żadnych tak naprawdę korzyści,', ' to po prostu do niego liczyło się to uznanie właśnie tego młodego rzeźbiarza,', ' ten dar i to spojrzenie właśnie jego, taka wdzięczność.', ' I z kolei właśnie pewnego razu właśnie Karolina był konkurs właśnie na symbol właśnie dzielnicy', ' i zauważyła, że pewna właśnie kobieta o imieniu Magda dała swój projekt,', ' który był bardzo podobny do tego, który właśnie jej brat Janek stworzył kiedyś.', ' No i postanowiła jakby wykorzystać swoje ostatnie to magiczne przepowiednie', ' na to, żeby zobaczyć, czy wygra właśnie Magda, otrzyma laur, a ona właśnie nic za to nie otrzyma,', ' czy właśnie wyeliminuje Magdę z konkursu i ona właśnie podpisze się pod właśnie projektem brata', ' no i dzięki temu zyska właśnie ona uznanie.', ' No i postanowiła wybrać właśnie swoją korzyść i dyskwalifikację Magdy', ' i tak też uczyniła właśnie, gdy Marta podczas tej jakby ogłoszenia wyników wygrała,', ' ona powiedziała właśnie, że to nieprawda, że to ona ma jakby pierwotny projekt', ' i Norada tam burmistrzów postanowiła właśnie przyznać rację Karolinie', ' i przez to właśnie Magda zyskała sławę, została jakby miała wyższą posadę,', ' dostała medal i była generalnie uznana.', ' No a zaś właśnie ostatnie swoje życzenie Janek postanowił wykorzystać właśnie na pomoc wdowie.', ' Wiedział, że właśnie gdyż wdowa z dziećmi przyszła do niego kiedyś właśnie do warsztatu,', ' żeby zapytać o pomoc, czy nie mógł jej załatać dziur, gdyż jej dom został spalony.', ' No i ta właśnie stwierdziła, że i Janek wiedział, że każda jakby godzina czas się dla niego liczy', ' i z jednej strony chciałby pomóc, ale z drugiej strony musi jakby pracę na konkurs dać', ' i żeby ozdobić tą właśnie dzielnicę tymi pracami.', ' No ale zdecydował się pomóc, gdyż dla niego jakby to dobro innych było najważniejsze', ' i zarzeczył ten dom dla tej wdowy, która była mu ogromnie wdzięczna.', ' No ale każdy świętował właśnie jakby to święto właśnie dzielnicy i miasta,', ' a ten jakby siedział samotnie właśnie w warsztacie i przyszli do niego właśnie wdowa,', ' ten kowal i rzeźbiarz, którzy chcieli razem z nim świętować.', ' A zaś Karolina cieszyła się właśnie uzdaniem, tą wysoką posadą', ' i dostała pewnego razu list, który był bardzo taki w negatywnym brzmieniu,', ' że już jakby straciła właśnie to serce i jakby tą osobę i nie do końca znała jakby adresata,', ' ale wiedziała, że nie wróży to dobrze.', ' I podczas pewnej właśnie jednej z rad Magda właśnie przyszła i właśnie powiedziała,', ' że to jest nieprawda, że to wcale nie jest jakby projekt tej właśnie Karoliny, tylko jej brata.', ' No i właśnie burmistrzowie potrzebowali jakby faktycznie jakby takiej potwierdzenia tego,', ' że tak jest. No i Magda przyszła kiedyś do warsztatu właśnie Janka i powiedziała,', ' że no potrzebują dowodu. No i Janek się trochę bił z myślami,', ' czy faktycznie no bo wiedział, że jakby wtedy pozbędzie siostry', ' tych wszystkich tytułów i uznania, którego ona tak bardzo chciała.', ' No ale właśnie dla niego jednak prawda i brak oszustwa było najważniejsze,', ' dlatego jakby zdecydował się wyjawić prawdę i wręczył im oryginał tego jego właśnie projektu', ' na symbol dzielnicy i tym sposobem właśnie Magda została zdeskwalifikowana,', ' znaczy Karolina została zdeskwalifikowana, pozbawiona tych tytułów,', ' no bo jednak została jakby oskarżona o oszustwo i właśnie nie podpisywanie się', ' pod własnym, właśnie podpisywanie się pod cudzą własnością i projektem właśnie.', ' No i musiała właśnie znowu trafiła do poziomu zerowego, z którego zaczynała,', ' była bardzo jakby gnębiona, no nie była dobrze, no nie była szanowana po prostu wśród mieszkańców,', ' bo wiedzieli jakby o niczego się dopuściła, no i wróciła właśnie do tej na poddasze młyna,', ' zamknęła się, nie wychodziła, bo nie chciała jakby patrzeć na szydercze spojrzenia', ' właśnie mieszkańców, którzy znali całkowicie prawdę, nie o to kim była', ' i właśnie szyła jakieś pojedyncze zlecenia właśnie swoimi rękoma,', ' ale już nie złotymi igłami, tylko zwykłymi i w dużym niższym stopniu znowu była biedna.', ' Zaś właśnie Janek został bardzo doceniony przez burmistrzów, przez dzielnice mieszkańców,', ' był bardzo szanowany jako uczciwy właśnie człowiek i Marta z współwłaścicielki warsztatu', ' jako pomocniczki, stała się jego żoną, cieszyli się właśnie powodzeniem, uznaniem,', ' też dla niego to było najważniejsze, no i pewnego dnia spotkali się właśnie Janek', ' ze swoją siostrą Karoliną i Janek postanowił podejść i się zatroskać o siostrę,', ' która była bardzo wychudzona, miała stary płaszcz, dziurawy i ten mimo jakby tego,', ' co uczyniła postanowił jakby jej pomóc i zatrudnił jej u siebie w warsztacie', ' i jego właśnie osobę do, jako po prostu szwaczkę, bo wiedział, że była w tym bardzo dobra', ' i teraz jakby tworzyli właśnie taki warsztat rzeźbiarsko właśnie szwaczy, że tak powiem', ' i połączyli właśnie swoje dwie jakby umiejętności, które mieli', ' i tym sposobem właśnie dla Janka nie liczyła się zapłata, właśnie jakieś tytuły i nagrody,', ' tylko po prostu to, że właśnie mógł pomóc różnym ludziom, klientom, którzy przychodzili do niego', ' i właśnie jakby te historie, które były powiązane z tym jego zawodem', ' i ludźmi, którzy przychodzili do nich do warsztatu, no i ten warsztat jego był bardzo słynny,', ' potem jego potomstwo właśnie decydowało się na podtrzymanie tej tradycji,', ' bo wiedzieli, jak ważne też dla jego ojca to było, no i właśnie ta historia pokazuje,', ' że tak naprawdę lepiej jakby pomagać innym i być trochę ponad to,', ' niż jednak jakby walczyć o to jakby tytuły, bogactwo i uznanie', ' i lepiej po prostu być uczciwym człowiekiem niż kłamać,', ' bo i tak kłamstwo później wyjdzie na jaw, to jest właśnie można powiedzieć taki morał z tej historii,', ' która mi się w sumie bardzo podobała i bardzo przyjemnie mi się jej słuchało,', ' tak więc to by było na tyle.']\n",
      "You said:  [' Okej, no to historia zaczyna się, gdzie rodzeństwo Karolina i Janek siedzą nad morzem', ' i Karolina obserwuje morze i marzy o tym, jak jej życie mogłoby wyglądać, marzy o wielkim życiu', ' i mówi do brata, że może te służą na więcej.', ' Janek też ma marzenia, ale one są raczej skoncentrowane na jakichś bardziej artystycznych osiągnięciach', ' i na wprowadzeniu wartościowego życia. Nie myśli o tytułach.', ' Janek też wspomina ich ojca i pojawi się tam też motyw tego, że ojciec nauczył ich co to ciężka praca', ' i że trzeba być dobrem i pomagać ludziom.', ' Następnego dnia po tej sytuacji, nie pamiętam, Karolina spotyka braczkę o przenikliwym spojrzeniu.', ' Janek też ją spotyka, udziela jej pomocy, odprowadzają ją do domu', ' i ta kobieta Karolinie podaje lusterko, które pokazuje co może się zdarzyć trzy razy,', ' potem ma się zamienić w normalne lusterko, natomiast Janekowi daje trzy kołki,', ' które może wbić gdzieś w razie potrzeby i one w jakiś sposób mają pomóc.', ' Przenikliwość kobiety budzi przerażenie urodzeństwa, ale biorą i idą dalej.', ' Dzięki za uwagę.', ' Dzięki za uwagę.', ' Dzięki za uwagę.', ' Dzięki za uwagę.', ' Dzięki za uwagę.', ' Dzięki za uwagę.', ' Dzięki za uwagę.']\n"
     ]
    },
    {
     "ename": "",
     "evalue": "",
     "output_type": "error",
     "traceback": [
      "\u001b[1;31mThe Kernel crashed while executing code in the current cell or a previous cell. \n",
      "\u001b[1;31mPlease review the code in the cell(s) to identify a possible cause of the failure. \n",
      "\u001b[1;31mClick <a href='https://aka.ms/vscodeJupyterKernelCrash'>here</a> for more info. \n",
      "\u001b[1;31mView Jupyter <a href='command:jupyter.viewOutput'>log</a> for further details."
     ]
    }
   ],
   "source": [
    "import sounddevice as sd\n",
    "import numpy as np\n",
    "import scipy.io.wavfile as wav\n",
    "import wave\n",
    "from faster_whisper import WhisperModel\n",
    "from storyTools import cosineSim\n",
    "import nltk\n",
    "import sys\n",
    "nltk.download('punkt_tab')\n",
    "\n",
    "janekScore = [];\n",
    "karolinaScore = [];\n",
    "allScore = [];\n",
    "\n",
    "for i, subj in enumerate(subjects):\n",
    "    currentSubj = os.path.join(path,subj, 'Recalls', 'story1.wav')\n",
    "\n",
    "    if i < 2:\n",
    "        continue\n",
    "\n",
    "    # Open wave file\n",
    "    wf = wave.open(currentSubj, \"rb\")\n",
    "\n",
    "    # Check audio format\n",
    "    if wf.getnchannels() != 1 or wf.getsampwidth() != 2 or wf.getcomptype() != \"NONE\":\n",
    "        print(\"Audio file must be WAV format mono PCM.\")\n",
    "        sys.exit(1)\n",
    "\n",
    "    \n",
    "\n",
    "    # Load Whisper model (can use \"base\", \"small\", \"medium\", etc.)\n",
    "    model = WhisperModel(\"medium\", device=\"cuda\")  # or \"cuda\" if you have a GPU\n",
    "\n",
    "    segments, _ = model.transcribe(currentSubj, language=\"pl\", beam_size=20) # włąściwy \n",
    "    originalText = [s.text for s in segments]\n",
    "    print(\"You said: \", originalText)\n",
    "\n",
    "    # Save Recall Text: C\n",
    "    with open(os.path.join(savePath,subj,'recall.txt'), \"w\") as text_file:\n",
    "        text_file.write(\" \".join(originalText))\n",
    "\n",
    "\n",
    "    \n",
    "    janekScore.append(cosineSim(\" \".join(originalText),janekStory))\n",
    "    karolinaScore.append(cosineSim(\" \".join(originalText),karolinaStory))\n",
    "    allScore.append(cosineSim(\" \".join(originalText),\"\".join(Story1)))"
   ]
  }
 ],
 "metadata": {
  "kernelspec": {
   "display_name": ".venv",
   "language": "python",
   "name": "python3"
  },
  "language_info": {
   "codemirror_mode": {
    "name": "ipython",
    "version": 3
   },
   "file_extension": ".py",
   "mimetype": "text/x-python",
   "name": "python",
   "nbconvert_exporter": "python",
   "pygments_lexer": "ipython3",
   "version": "3.11.9"
  }
 },
 "nbformat": 4,
 "nbformat_minor": 5
}
